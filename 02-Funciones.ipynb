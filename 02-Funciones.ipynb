{
 "cells": [
  {
   "cell_type": "code",
   "execution_count": 4,
   "metadata": {},
   "outputs": [
    {
     "name": "stdout",
     "output_type": "stream",
     "text": [
      "Hola mundo\n"
     ]
    },
    {
     "data": {
      "text/plain": [
       "NoneType"
      ]
     },
     "execution_count": 4,
     "metadata": {},
     "output_type": "execute_result"
    }
   ],
   "source": [
    "def hola_mundo():\n",
    "    print(\"Hola mundo\")\n",
    "type(hola_mundo())\n",
    "##si no regresa nada, es nonetype"
   ]
  },
  {
   "cell_type": "code",
   "execution_count": 24,
   "metadata": {},
   "outputs": [
    {
     "name": "stdout",
     "output_type": "stream",
     "text": [
      "<class 'int'>\n",
      "La suma total de 2 y 3 es: 9\n"
     ]
    }
   ],
   "source": [
    "def sumar_dos_numeros(num_uno, num_dos):\n",
    "    return num_uno + num_dos\n",
    "#print(sumar_dos_numeros(7,2))\n",
    "total_suma = sumar_dos_numeros(7,2)\n",
    "print(type(sumar_dos_numeros(7,2)))\n",
    "#Para utilizar variables dentro de los print se usa f referenciada\n",
    "print(f\"La suma total de 2 y 3 es: {total_suma}\")"
   ]
  },
  {
   "cell_type": "markdown",
   "metadata": {},
   "source": [
    "#### Parametros opcionales"
   ]
  },
  {
   "cell_type": "code",
   "execution_count": 11,
   "metadata": {},
   "outputs": [
    {
     "name": "stdout",
     "output_type": "stream",
     "text": [
      "Universidad:EPN \n"
     ]
    }
   ],
   "source": [
    "def imprimir_universidad(nombre = 'EPN'):\n",
    "    print(f\"Universidad:{nombre} \")\n",
    "imprimir_universidad()"
   ]
  },
  {
   "cell_type": "code",
   "execution_count": 12,
   "metadata": {},
   "outputs": [
    {
     "name": "stdout",
     "output_type": "stream",
     "text": [
      "Universidad:Cato \n"
     ]
    }
   ],
   "source": [
    "imprimir_universidad('Cato')"
   ]
  },
  {
   "cell_type": "markdown",
   "metadata": {},
   "source": [
    "### Parametros opcionales y obligatorios\n",
    "##### REGLA: Primero se ponen los parametros requeridos y al final los opcionales"
   ]
  },
  {
   "cell_type": "code",
   "execution_count": 18,
   "metadata": {},
   "outputs": [],
   "source": [
    "def imprimir_carro(color, placa, hp, anio = 1998):\n",
    "     print(f\"Color: {color}\")\n",
    "     print(f\"Placa: {placa}\")\n",
    "     print(f\"Hp: {hp}\")\n",
    "     print(f\"Anio: {anio}\")"
   ]
  },
  {
   "cell_type": "code",
   "execution_count": 22,
   "metadata": {},
   "outputs": [
    {
     "name": "stdout",
     "output_type": "stream",
     "text": [
      "Color: Negro\n",
      "Placa: PLW444\n",
      "Hp: 6000\n",
      "Anio: 1998\n"
     ]
    }
   ],
   "source": [
    "imprimir_carro('Negro', 'PLW444',6000)"
   ]
  },
  {
   "cell_type": "markdown",
   "metadata": {},
   "source": [
    "#### Named parameters o parametros nombrados\n"
   ]
  },
  {
   "cell_type": "code",
   "execution_count": 26,
   "metadata": {},
   "outputs": [
    {
     "name": "stdout",
     "output_type": "stream",
     "text": [
      "Color: negro\n",
      "Placa: tgn\n",
      "Hp: 405\n",
      "Anio: 2000\n"
     ]
    }
   ],
   "source": [
    "imprimir_carro(anio = 2000, placa='tgn',color='negro', hp = 405)"
   ]
  },
  {
   "cell_type": "markdown",
   "metadata": {},
   "source": [
    "#### PARAMETROS INFINITOS\n",
    "##### Se pone un asterisco a los parametros infinitos\n",
    "##### Si ponemos parametros infinitos, ya no ponemos nada mas"
   ]
  },
  {
   "cell_type": "code",
   "execution_count": 34,
   "metadata": {},
   "outputs": [],
   "source": [
    "def sumar_numeros(primer_numero, *numeros):\n",
    "    suma = primer_numero\n",
    "    for numero in numeros:\n",
    "        suma = suma + numero\n",
    "    return suma\n",
    "    print(primer_numero)\n",
    "    print(numeros)\n",
    "    print(type(numeros))"
   ]
  },
  {
   "cell_type": "code",
   "execution_count": 35,
   "metadata": {},
   "outputs": [
    {
     "data": {
      "text/plain": [
       "48"
      ]
     },
     "execution_count": 35,
     "metadata": {},
     "output_type": "execute_result"
    }
   ],
   "source": [
    "sumar_numeros(1,2,1,2,3,4,5,6,7,8,9)"
   ]
  },
  {
   "cell_type": "code",
   "execution_count": 5,
   "metadata": {},
   "outputs": [
    {
     "name": "stdout",
     "output_type": "stream",
     "text": [
      "{'saludo': 'hola', 'mensaje': 'mundo'}\n",
      "<class 'dict'>\n"
     ]
    }
   ],
   "source": [
    "def establecer_configuracion(**kwargs): ##Key word arguments -- kwargs\n",
    "    print(configuracion)\n",
    "    print(type(configuracion))\n",
    "#establecer_configuracion()\n",
    "#establecer_configuracion('saludo' = \"hola\") -- no vale los parametros con \n",
    "establecer_configuracion(saludo = \"hola\", mensaje = 'mundo')\n",
    "##el doble asterisco es un diccionario"
   ]
  },
  {
   "cell_type": "code",
   "execution_count": 8,
   "metadata": {},
   "outputs": [],
   "source": [
    "#reglas\n",
    "def ejemplo(requerido_uno,\n",
    "           requerido_dos,\n",
    "           opcional_uno = 1,\n",
    "           opcional_dos = 2,\n",
    "           *infinitos, \n",
    "           **kwargs):\n",
    "    print(\":)\")"
   ]
  },
  {
   "cell_type": "code",
   "execution_count": 7,
   "metadata": {},
   "outputs": [
    {
     "ename": "TypeError",
     "evalue": "ejemplo() missing 2 required positional arguments: 'requerido_uno' and 'requerido_dos'",
     "output_type": "error",
     "traceback": [
      "\u001b[1;31m---------------------------------------------------------------------------\u001b[0m",
      "\u001b[1;31mTypeError\u001b[0m                                 Traceback (most recent call last)",
      "\u001b[1;32m<ipython-input-7-564248a30035>\u001b[0m in \u001b[0;36m<module>\u001b[1;34m\u001b[0m\n\u001b[1;32m----> 1\u001b[1;33m \u001b[0mejemplo\u001b[0m\u001b[1;33m(\u001b[0m\u001b[1;33m)\u001b[0m\u001b[1;33m\u001b[0m\u001b[1;33m\u001b[0m\u001b[0m\n\u001b[0m",
      "\u001b[1;31mTypeError\u001b[0m: ejemplo() missing 2 required positional arguments: 'requerido_uno' and 'requerido_dos'"
     ]
    }
   ],
   "source": [
    "ejemplo()"
   ]
  },
  {
   "cell_type": "code",
   "execution_count": null,
   "metadata": {},
   "outputs": [],
   "source": []
  }
 ],
 "metadata": {
  "kernelspec": {
   "display_name": "Python 3",
   "language": "python",
   "name": "python3"
  },
  "language_info": {
   "codemirror_mode": {
    "name": "ipython",
    "version": 3
   },
   "file_extension": ".py",
   "mimetype": "text/x-python",
   "name": "python",
   "nbconvert_exporter": "python",
   "pygments_lexer": "ipython3",
   "version": "3.8.5"
  }
 },
 "nbformat": 4,
 "nbformat_minor": 4
}
