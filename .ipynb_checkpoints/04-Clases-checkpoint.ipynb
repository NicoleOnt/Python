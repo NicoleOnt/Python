{
 "cells": [
  {
   "cell_type": "markdown",
   "id": "70aa1f1f",
   "metadata": {},
   "source": [
    "## Funciones Lambda\n",
    "#### Funciones que no hacen algo muy grnde en python\n",
    "#### lambda parametros : lo que se quiere que haga"
   ]
  },
  {
   "cell_type": "code",
   "execution_count": 1,
   "id": "b53a8109",
   "metadata": {},
   "outputs": [
    {
     "data": {
      "text/plain": [
       "4"
      ]
     },
     "execution_count": 1,
     "metadata": {},
     "output_type": "execute_result"
    }
   ],
   "source": [
    "def elevar_al_cuadrado(numero):\n",
    "    return numero* numero\n",
    "elevar_al_cuadrado(2)\n",
    "#se esta gastando mucho espacio computacional"
   ]
  },
  {
   "cell_type": "code",
   "execution_count": 2,
   "id": "22349c30",
   "metadata": {},
   "outputs": [],
   "source": [
    "al_cuadrado = lambda x : x*x"
   ]
  },
  {
   "cell_type": "code",
   "execution_count": 3,
   "id": "1dec8136",
   "metadata": {},
   "outputs": [
    {
     "data": {
      "text/plain": [
       "4"
      ]
     },
     "execution_count": 3,
     "metadata": {},
     "output_type": "execute_result"
    }
   ],
   "source": [
    "al_cuadrado(2)"
   ]
  },
  {
   "cell_type": "code",
   "execution_count": 4,
   "id": "548cf6bd",
   "metadata": {},
   "outputs": [],
   "source": [
    "sumar_dos_numeros = lambda x,y : x+ y"
   ]
  },
  {
   "cell_type": "code",
   "execution_count": 7,
   "id": "16805276",
   "metadata": {},
   "outputs": [
    {
     "data": {
      "text/plain": [
       "17"
      ]
     },
     "execution_count": 7,
     "metadata": {},
     "output_type": "execute_result"
    }
   ],
   "source": [
    "sumar_dos_numeros(8,9)"
   ]
  },
  {
   "cell_type": "markdown",
   "id": "46701a94",
   "metadata": {},
   "source": [
    "# CLASES\n",
    "##### Define un sustantivo\n",
    "##### Crear objetos"
   ]
  },
  {
   "cell_type": "code",
   "execution_count": 8,
   "id": "9002302d",
   "metadata": {},
   "outputs": [],
   "source": [
    "class Nada:\n",
    "    #para empezar a desarrollar en un futuro: pass\n",
    "    pass"
   ]
  },
  {
   "cell_type": "code",
   "execution_count": 12,
   "id": "d979386c",
   "metadata": {},
   "outputs": [
    {
     "name": "stdout",
     "output_type": "stream",
     "text": [
      "<__main__.Nada object at 0x000001D2E5552D60>\n",
      "<class '__main__.Nada'>\n"
     ]
    }
   ],
   "source": [
    "#Instanciar una clase\n",
    "una_nada = Nada()\n",
    "print(una_nada) #ya tiene espacio en la memoria\n",
    "print(type(una_nada)) #ya es una clase"
   ]
  },
  {
   "cell_type": "code",
   "execution_count": 64,
   "id": "704fd8a5",
   "metadata": {},
   "outputs": [],
   "source": [
    "class Auto:\n",
    "    #atributos de acceso publico\n",
    "    color = None\n",
    "    #propiedades privadas\n",
    "    __numero_chasis = 1\n",
    "    \n",
    "    #CONSTRUCTOR\n",
    "    def __init__(self,color = \"Blanco\"): #self= this\n",
    "        self.color = color\n",
    "        #print(\"Empezo el constructor\")\n",
    "    \n",
    "    #Cuando se cree una funcion dentro de una clase en pytohn siempre usar self\n",
    "    #METODOS PUBLICOS\n",
    "    def setear_chasis(self, numero_chasis):\n",
    "        self.__numero_chasis = numero_chasis\n",
    "        return self.__calculo_chasis()\n",
    "        \n",
    "    #METODOS PRIVADOS\n",
    "    def __calculo_chasis(self):\n",
    "        return self.__numero_chasis * 1.17\n",
    "    \n",
    "    #to String de Java: para imprimir la clase\n",
    "    #Override\n",
    "    def __str__(self):\n",
    "        parte_uno = f\"El color es: {self.color} \\n\"\n",
    "        parte_dos = f\"El numero de chasis es:{self.__numero_chasis}\"\n",
    "        \n",
    "        #return  parte_uno + parte_dos\n",
    "        return 'El color es {} y el numero de chasis es {}'.format(self.color, self.__numero_chasis)\n",
    "         "
   ]
  },
  {
   "cell_type": "code",
   "execution_count": 65,
   "id": "d2b729af",
   "metadata": {},
   "outputs": [
    {
     "name": "stdout",
     "output_type": "stream",
     "text": [
      "verde\n",
      "140.39999999999998\n",
      "El color es verde y el numero de chasis es 120\n"
     ]
    }
   ],
   "source": [
    "nuevo_auto = Auto(\"verde\")\n",
    "print(nuevo_auto.color)\n",
    "print(nuevo_auto.setear_chasis(120))\n",
    "print(nuevo_auto)"
   ]
  },
  {
   "cell_type": "code",
   "execution_count": 71,
   "id": "ef54bfb4",
   "metadata": {},
   "outputs": [],
   "source": [
    "class BMW(Auto):\n",
    "    #chasis = 1\n",
    "    def __init__(self, color, chasis = 1):\n",
    "     #   self.chasis = chasis\n",
    "        print(\"Iniciar constructor hijo\")\n",
    "        #constructor papa\n",
    "        super().__init__(color)\n",
    "        super().setear_chasis(chasis)"
   ]
  },
  {
   "cell_type": "code",
   "execution_count": 72,
   "id": "7bf610ba",
   "metadata": {},
   "outputs": [
    {
     "name": "stdout",
     "output_type": "stream",
     "text": [
      "Iniciar constructor hijo\n"
     ]
    }
   ],
   "source": [
    "nuevo_BMW = BMW(\"Blanco\")"
   ]
  },
  {
   "cell_type": "code",
   "execution_count": 73,
   "id": "5256d3fa",
   "metadata": {},
   "outputs": [
    {
     "name": "stdout",
     "output_type": "stream",
     "text": [
      "El color es Blanco y el numero de chasis es 1\n"
     ]
    }
   ],
   "source": [
    "print(nuevo_BMW)"
   ]
  }
 ],
 "metadata": {
  "kernelspec": {
   "display_name": "Python 3",
   "language": "python",
   "name": "python3"
  },
  "language_info": {
   "codemirror_mode": {
    "name": "ipython",
    "version": 3
   },
   "file_extension": ".py",
   "mimetype": "text/x-python",
   "name": "python",
   "nbconvert_exporter": "python",
   "pygments_lexer": "ipython3",
   "version": "3.8.8"
  }
 },
 "nbformat": 4,
 "nbformat_minor": 5
}
