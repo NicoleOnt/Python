{
 "cells": [
  {
   "cell_type": "markdown",
   "metadata": {},
   "source": [
    "# Titulo1\n",
    "###### Titulo 6 \n",
    "![alt text](https://github.com/adam-p/markdown-here/raw/master/src/common/images/icon48.png \"Logo Title Text 1\")\n",
    "![alt text][logo]\n",
    "\n",
    "[logo]: https://github.com/adam-p/markdown-here/raw/master/src/common/images/icon48.png \"Logo Title Text 2\"\n",
    "\n",
    "```javascript\n",
    "var s = \"JavaScript syntax highlighting\";\n",
    "alert(s);\n",
    "```\n",
    " \n",
    "```python\n",
    "s = \"Python syntax highlighting\"\n",
    "print s\n",
    "```\n",
    " \n",
    "```\n",
    "No language indicated, so no syntax highlighting. \n",
    "But let's throw in a <b>tag</b>.\n",
    "```"
   ]
  },
  {
   "cell_type": "code",
   "execution_count": 2,
   "metadata": {},
   "outputs": [
    {
     "name": "stdout",
     "output_type": "stream",
     "text": [
      "Hola mundo\n"
     ]
    }
   ],
   "source": [
    "print(\"Hola mundo\")"
   ]
  },
  {
   "cell_type": "code",
   "execution_count": 3,
   "metadata": {},
   "outputs": [
    {
     "name": "stdout",
     "output_type": "stream",
     "text": [
      "<class 'int'>\n",
      "<class 'float'>\n",
      "<class 'str'>\n",
      "<class 'str'>\n",
      "<class 'str'>\n",
      "<class 'bool'>\n",
      "<class 'bool'>\n",
      "<class 'NoneType'>\n",
      "<class 'float'>\n"
     ]
    }
   ],
   "source": [
    "## No tipado! No se declara el tipo de variable. \n",
    "# Variables primitivas\n",
    "entero = 4\n",
    "decimales = 2.1\n",
    "nombre = \"Nico\"\n",
    "segundo_nombre = \"Estefania\"\n",
    "apellido = 'Ontaneda'\n",
    "casado = False\n",
    "trabajador = True\n",
    "hijos = None\n",
    "print(type(entero)) #class int\n",
    "print(type(decimales)) # class float\n",
    "print(type(nombre)) #class str\n",
    "print(type(segundo_nombre)) #class str\n",
    "print(type(apellido)) # class str\n",
    "print(type(casado)) #class bool\n",
    "print(type(trabajador)) #class bool\n",
    "print(type(hijos)) #class Nonetype\n",
    "print(type(float('nan'))) # toma la clase que estan tomando aqui es float \n",
    "#nan = not a Number "
   ]
  },
  {
   "cell_type": "code",
   "execution_count": 6,
   "metadata": {},
   "outputs": [
    {
     "name": "stdout",
     "output_type": "stream",
     "text": [
      "\n",
      "[Geología]\n",
      "\n",
      "Una fase de hidrocarburo líquido de alta gravedad API y baja densidad, que existe Por lo general en asociación con el gas natural. Su presencia como una fase líquida depende de las condiciones de temperatura y presión existentes en el yacimiento, que permiten la condensación del líquido a partir del vapor. La producción de los yacimientos de condensado puede verse complicada debido a la sensibilidad de algunos condensados en términos de presión: durante la fase de producción, existe el riesgo de que el condensado pase de líquido a gas si la presión del yacimiento se reduce por debajo del punto de burbuja durante esa etapa. La presión de yacimiento puede ser mantenida mediante la inyección de fluido si la producción de gas se prefiere por sobre la producción de líquido. El gas producido en asociación con \n",
      "\n"
     ]
    }
   ],
   "source": [
    "cadena_de_texto = \"\"\"\n",
    "[Geología]\n",
    "\n",
    "Una fase de hidrocarburo líquido de alta gravedad API y baja densidad, que existe Por lo general en asociación con el gas natural. Su presencia como una fase líquida depende de las condiciones de temperatura y presión existentes en el yacimiento, que permiten la condensación del líquido a partir del vapor. La producción de los yacimientos de condensado puede verse complicada debido a la sensibilidad de algunos condensados en términos de presión: durante la fase de producción, existe el riesgo de que el condensado pase de líquido a gas si la presión del yacimiento se reduce por debajo del punto de burbuja durante esa etapa. La presión de yacimiento puede ser mantenida mediante la inyección de fluido si la producción de gas se prefiere por sobre la producción de líquido. El gas producido en asociación con \n",
    "\"\"\"\n",
    "print(cadena_de_texto)"
   ]
  },
  {
   "cell_type": "code",
   "execution_count": 7,
   "metadata": {},
   "outputs": [
    {
     "name": "stdout",
     "output_type": "stream",
     "text": [
      "4\n"
     ]
    }
   ],
   "source": [
    "print(entero)"
   ]
  },
  {
   "cell_type": "code",
   "execution_count": 8,
   "metadata": {},
   "outputs": [],
   "source": [
    "entero = decimales\n",
    "entero = casado\n",
    "entero = hijos"
   ]
  },
  {
   "cell_type": "code",
   "execution_count": 9,
   "metadata": {},
   "outputs": [
    {
     "name": "stdout",
     "output_type": "stream",
     "text": [
      "None\n"
     ]
    }
   ],
   "source": [
    "print (entero)"
   ]
  },
  {
   "cell_type": "code",
   "execution_count": 10,
   "metadata": {},
   "outputs": [
    {
     "name": "stdout",
     "output_type": "stream",
     "text": [
      "Truty\n"
     ]
    }
   ],
   "source": [
    "#Condiciones \n",
    "#Truty Falsy \n",
    "\n",
    "tuplas = (1,2,3) #arreglos que no se pueden modificar\n",
    "listas = [1,2,3] #arreglos que se pueden modificar\n",
    "diccionario = {\n",
    "    \"nombre\" : \"Nico\"\n",
    "}\n",
    "if('Nico'):\n",
    "    #...\n",
    "    #...\n",
    "    print('Truty')\n",
    "else:\n",
    "    #...\n",
    "    #...\n",
    "    print('Falsy')\n"
   ]
  },
  {
   "cell_type": "code",
   "execution_count": 12,
   "metadata": {},
   "outputs": [
    {
     "name": "stdout",
     "output_type": "stream",
     "text": [
      "Falsy\n"
     ]
    }
   ],
   "source": [
    "if(''):\n",
    "    print('Truty')\n",
    "else:\n",
    "    print('Falsy')\n"
   ]
  },
  {
   "cell_type": "code",
   "execution_count": null,
   "metadata": {},
   "outputs": [],
   "source": []
  }
 ],
 "metadata": {
  "kernelspec": {
   "display_name": "Python 3",
   "language": "python",
   "name": "python3"
  },
  "language_info": {
   "codemirror_mode": {
    "name": "ipython",
    "version": 3
   },
   "file_extension": ".py",
   "mimetype": "text/x-python",
   "name": "python",
   "nbconvert_exporter": "python",
   "pygments_lexer": "ipython3",
   "version": "3.8.5"
  }
 },
 "nbformat": 4,
 "nbformat_minor": 4
}
