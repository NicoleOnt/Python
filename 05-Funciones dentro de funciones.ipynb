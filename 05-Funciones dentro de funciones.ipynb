{
 "cells": [
  {
   "cell_type": "code",
   "execution_count": 10,
   "id": "e1adb6aa",
   "metadata": {},
   "outputs": [
    {
     "data": {
      "text/plain": [
       "6"
      ]
     },
     "execution_count": 10,
     "metadata": {},
     "output_type": "execute_result"
    }
   ],
   "source": [
    "def calculadora(num_uno,\n",
    "                num_dos, \n",
    "                operacion = 'suma'):\n",
    "    \n",
    "    def suma():\n",
    "        return num_uno + num_dos\n",
    "    \n",
    "    def resta():\n",
    "        return num_uno - num_dos\n",
    "    \n",
    "    def multiplicacion():\n",
    "        return num_uno * num_dos\n",
    "    \n",
    "    def division():\n",
    "        return num_uno / num_dos\n",
    "    \n",
    "    def devolver_respuesta():\n",
    "        opciones = {\n",
    "            'suma': suma,\n",
    "            'resta': resta,\n",
    "            'multiplicacion' : multiplicacion,\n",
    "            'division': division\n",
    "        }\n",
    "        #No estoy ejecutando todo\n",
    "        #suma --> definicion de la funcion\n",
    "        #suma() --> ejecucion de la funcion\n",
    "        return opciones[operacion]()\n",
    "    \n",
    "    return devolver_respuesta()\n",
    "\n",
    "calculadora(2,4)"
   ]
  },
  {
   "cell_type": "code",
   "execution_count": 11,
   "id": "5fbc680b",
   "metadata": {},
   "outputs": [
    {
     "name": "stdout",
     "output_type": "stream",
     "text": [
      "Dime tu edad23\n",
      "23\n",
      "<class 'str'>\n"
     ]
    }
   ],
   "source": [
    "edad = input(\"Dime tu edad\")\n",
    "print(edad) #23\n",
    "print(type(edad)) #str"
   ]
  },
  {
   "cell_type": "code",
   "execution_count": null,
   "id": "341930b7",
   "metadata": {},
   "outputs": [],
   "source": []
  }
 ],
 "metadata": {
  "kernelspec": {
   "display_name": "Python 3",
   "language": "python",
   "name": "python3"
  },
  "language_info": {
   "codemirror_mode": {
    "name": "ipython",
    "version": 3
   },
   "file_extension": ".py",
   "mimetype": "text/x-python",
   "name": "python",
   "nbconvert_exporter": "python",
   "pygments_lexer": "ipython3",
   "version": "3.8.8"
  }
 },
 "nbformat": 4,
 "nbformat_minor": 5
}
